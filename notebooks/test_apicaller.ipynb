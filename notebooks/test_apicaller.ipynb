{
 "cells": [
  {
   "cell_type": "code",
   "execution_count": 1,
   "metadata": {},
   "outputs": [
    {
     "data": {
      "text/plain": [
       "'D:\\\\Kulturdatenraum_Projekt\\\\Master_Thesis\\\\code_01\\\\prepare_datasets\\\\my_project\\\\OWLAPICaller\\\\OWLCaller'"
      ]
     },
     "execution_count": 1,
     "metadata": {},
     "output_type": "execute_result"
    }
   ],
   "source": [
    "import os\n",
    "\n",
    "os.chdir(\"D:\\Kulturdatenraum_Projekt\\Master_Thesis\\code_01\\prepare_datasets\\my_project\\OWLAPICaller\\OWLCaller\")\n",
    "os.getcwd()"
   ]
  },
  {
   "cell_type": "code",
   "execution_count": 2,
   "metadata": {},
   "outputs": [
    {
     "name": "stdout",
     "output_type": "stream",
     "text": [
      "D:\\Kulturdatenraum_Projekt\\Master_Thesis\\code_01\\prepare_datasets\\my_project\\OWLAPICaller\\OWLCaller\n",
      "['D:\\\\Kulturdatenraum_Projekt\\\\Master_Thesis\\\\code_01\\\\prepare_datasets\\\\my_project\\\\OWLAPICaller\\\\OWLCaller\\\\apicaller', 'D:\\\\Kulturdatenraum_Projekt\\\\Master_Thesis\\\\code_01\\\\prepare_datasets\\\\my_project\\\\OWLAPICaller\\\\OWLCaller\\\\docs', 'D:\\\\Kulturdatenraum_Projekt\\\\Master_Thesis\\\\code_01\\\\prepare_datasets\\\\my_project\\\\OWLAPICaller\\\\OWLCaller\\\\functions', 'D:\\\\Kulturdatenraum_Projekt\\\\Master_Thesis\\\\code_01\\\\prepare_datasets\\\\my_project\\\\OWLAPICaller\\\\OWLCaller\\\\notebooks', 'D:\\\\Kulturdatenraum_Projekt\\\\Master_Thesis\\\\code_01\\\\prepare_datasets\\\\my_project\\\\OWLAPICaller\\\\OWLCaller\\\\README.md']\n",
      "Today is 2023-07-21\n"
     ]
    }
   ],
   "source": [
    "import datetime\n",
    "\n",
    "from apicaller import *\n",
    "from apicaller.__apicaller_class import APICaller\n",
    "from functions import *\n",
    "from functions.image_utils import show_image\n",
    "\n",
    "print(f\"Today is {datetime.date.today()}\")\n"
   ]
  },
  {
   "cell_type": "code",
   "execution_count": 11,
   "metadata": {},
   "outputs": [
    {
     "name": "stderr",
     "output_type": "stream",
     "text": [
      "  0%|          | 0/3 [00:00<?, ?it/s]"
     ]
    },
    {
     "name": "stderr",
     "output_type": "stream",
     "text": [
      "100%|██████████| 3/3 [00:02<00:00,  1.37it/s]"
     ]
    },
    {
     "name": "stdout",
     "output_type": "stream",
     "text": [
      "In Total Got 201 unique ids\n"
     ]
    },
    {
     "name": "stderr",
     "output_type": "stream",
     "text": [
      "\n"
     ]
    }
   ],
   "source": [
    "caller = APICaller()\n",
    "event_ids_list = caller.get_event_ids(size = 201)\n",
    "#event_ids_list"
   ]
  },
  {
   "cell_type": "code",
   "execution_count": 41,
   "metadata": {},
   "outputs": [
    {
     "name": "stderr",
     "output_type": "stream",
     "text": [
      "100%|██████████| 1/1 [00:00<00:00,  1.17it/s]"
     ]
    },
    {
     "name": "stdout",
     "output_type": "stream",
     "text": [
      "In Total Got 20 unique ids\n"
     ]
    },
    {
     "name": "stderr",
     "output_type": "stream",
     "text": [
      "\n"
     ]
    }
   ],
   "source": [
    "######\n",
    "### call OWL API and returns the first 'size' event ids it finds\n",
    "#######\n",
    "\n",
    "caller = APICaller()\n",
    "event_ids_list = caller.get_event_ids(size = 20)\n",
    "\n"
   ]
  },
  {
   "cell_type": "code",
   "execution_count": 32,
   "metadata": {},
   "outputs": [
    {
     "name": "stdout",
     "output_type": "stream",
     "text": [
      "Dict with 20 event ids saved to D:\\Kulturdatenraum_Projekt\\Master_Thesis\\code_01\\prepare_datasets\\my_project\\OWLAPICaller\\OWLCaller/notebooks/owl_ids_2023_07_21.json\n"
     ]
    }
   ],
   "source": [
    "######\n",
    "### saves the list of returned Ids to JSON\n",
    "#######\n",
    "\n",
    "caller.save_event_ids(event_ids_list, output_path = f\"{os.getcwd()}/notebooks\")"
   ]
  },
  {
   "cell_type": "code",
   "execution_count": 45,
   "metadata": {},
   "outputs": [
    {
     "name": "stderr",
     "output_type": "stream",
     "text": [
      "100%|██████████| 20/20 [00:03<00:00,  6.66it/s]\n"
     ]
    }
   ],
   "source": [
    "######\n",
    "### call OWL API and returns the events information for a given list of event ids\n",
    "#######\n",
    "\n",
    "events = caller.get_events(event_ids = event_ids_list)"
   ]
  },
  {
   "cell_type": "code",
   "execution_count": 15,
   "metadata": {},
   "outputs": [
    {
     "name": "stdout",
     "output_type": "stream",
     "text": [
      "20 \n",
      " dict_keys(['id', 'id_str', 'institutionID', 'name', 'description', 'website', 'primaryEventCategory', 'startDate', 'endDate', 'physicalLocation', 'status'])\n"
     ]
    }
   ],
   "source": [
    "#example\n",
    "\n",
    "print(len(events['id']), '\\n', events.keys())"
   ]
  },
  {
   "cell_type": "code",
   "execution_count": 16,
   "metadata": {},
   "outputs": [
    {
     "data": {
      "text/plain": [
       "[{'typeDiscriminator': 'physicalEventLocation',\n",
       "  'houseName': 'Verein umsonst & draussen Kultur e.V. Vlotho',\n",
       "  'street': 'Heuweg',\n",
       "  'postalCode': '32457',\n",
       "  'city': 'Porta Westfalica',\n",
       "  'coordinate': {'latitude': 52.18814143548184, 'longitude': 8.9593505859375},\n",
       "  'status': 'locationPrivate',\n",
       "  'id': 1130399689133260801,\n",
       "  'id_str': '1130399689133260801',\n",
       "  'institutionID': 'ElsaWorkflow: destinationOne'},\n",
       " {'typeDiscriminator': 'physicalEventLocation',\n",
       "  'houseName': 'Margarethenkapelle',\n",
       "  'street': 'Wittekindsberg',\n",
       "  'postalCode': '32457',\n",
       "  'city': 'Porta Westfalica',\n",
       "  'coordinate': {'latitude': 52.247483762985915,\n",
       "   'longitude': 8.881781101226807},\n",
       "  'status': 'locationPrivate',\n",
       "  'id': 1130397908353417217,\n",
       "  'id_str': '1130397908353417217',\n",
       "  'institutionID': 'ElsaWorkflow: destinationOne'},\n",
       " {'typeDiscriminator': 'physicalEventLocation',\n",
       "  'houseName': 'Museum im Hütteschen Haus',\n",
       "  'street': 'Nicolaistr.',\n",
       "  'houseNumber': '10',\n",
       "  'postalCode': '37671',\n",
       "  'city': 'Höxter',\n",
       "  'coordinate': {'latitude': 51.777007, 'longitude': 9.382153},\n",
       "  'status': 'locationPrivate',\n",
       "  'id': 1130398169520144385,\n",
       "  'id_str': '1130398169520144385',\n",
       "  'institutionID': 'ElsaWorkflow: destinationOne'},\n",
       " {'typeDiscriminator': 'physicalEventLocation',\n",
       "  'houseName': 'Margarethenkapelle',\n",
       "  'street': 'Wittekindsberg',\n",
       "  'postalCode': '32457',\n",
       "  'city': 'Porta Westfalica',\n",
       "  'coordinate': {'latitude': 52.247483762985915,\n",
       "   'longitude': 8.881781101226807},\n",
       "  'status': 'locationPrivate',\n",
       "  'id': 1130399859342311424,\n",
       "  'id_str': '1130399859342311424',\n",
       "  'institutionID': 'ElsaWorkflow: destinationOne'},\n",
       " {'typeDiscriminator': 'physicalEventLocation',\n",
       "  'houseName': 'Margarethenkapelle',\n",
       "  'street': 'Wittekindsberg',\n",
       "  'postalCode': '32457',\n",
       "  'city': 'Porta Westfalica',\n",
       "  'coordinate': {'latitude': 52.247483762985915,\n",
       "   'longitude': 8.881781101226807},\n",
       "  'status': 'locationPrivate',\n",
       "  'id': 1130399859451363329,\n",
       "  'id_str': '1130399859451363329',\n",
       "  'institutionID': 'ElsaWorkflow: destinationOne'},\n",
       " {'typeDiscriminator': 'physicalEventLocation',\n",
       "  'houseName': 'Innenstadt Höxter',\n",
       "  'street': 'Westerbachstraße',\n",
       "  'postalCode': '37671',\n",
       "  'city': 'Höxter',\n",
       "  'country': 'Deutschland',\n",
       "  'coordinate': {'latitude': 51.77397439961359,\n",
       "   'longitude': 9.381176233291624},\n",
       "  'status': 'locationPrivate',\n",
       "  'id': 1130398080177274880,\n",
       "  'id_str': '1130398080177274880',\n",
       "  'institutionID': 'ElsaWorkflow: destinationOne'},\n",
       " {'typeDiscriminator': 'physicalEventLocation',\n",
       "  'houseName': 'Corvey',\n",
       "  'street': 'Corvey',\n",
       "  'houseNumber': '1',\n",
       "  'postalCode': '37671',\n",
       "  'city': 'Höxter',\n",
       "  'coordinate': {'latitude': 51.77840878750391,\n",
       "   'longitude': 9.408073425292969},\n",
       "  'status': 'locationPrivate',\n",
       "  'id': 1130395085523910656,\n",
       "  'id_str': '1130395085523910656',\n",
       "  'institutionID': 'ElsaWorkflow: destinationOne'},\n",
       " {'typeDiscriminator': 'physicalEventLocation',\n",
       "  'houseName': 'Historisches Rathaus',\n",
       "  'street': 'Weserstraße',\n",
       "  'houseNumber': '11',\n",
       "  'postalCode': '37671',\n",
       "  'city': 'Höxter',\n",
       "  'coordinate': {'latitude': 51.77371217291183,\n",
       "   'longitude': 9.382294714450836},\n",
       "  'status': 'locationPrivate',\n",
       "  'id': 1130395997051027456,\n",
       "  'id_str': '1130395997051027456',\n",
       "  'institutionID': 'ElsaWorkflow: destinationOne'},\n",
       " {'typeDiscriminator': 'physicalEventLocation',\n",
       "  'houseName': 'Innenstadt Delbrück',\n",
       "  'street': 'Alter Markt',\n",
       "  'houseNumber': '1',\n",
       "  'postalCode': '33129',\n",
       "  'city': 'Delbrück',\n",
       "  'coordinate': {'latitude': 51.765117596400174,\n",
       "   'longitude': 8.562126159667969},\n",
       "  'status': 'locationPrivate',\n",
       "  'id': 1130395269834211329,\n",
       "  'id_str': '1130395269834211329',\n",
       "  'institutionID': 'ElsaWorkflow: destinationOne'},\n",
       " {'typeDiscriminator': 'physicalEventLocation',\n",
       "  'houseName': 'Pavillon am Bahnübergang - Bad Driburg',\n",
       "  'street': 'Lange Straße',\n",
       "  'houseNumber': '140',\n",
       "  'postalCode': '33014',\n",
       "  'city': 'Bad Driburg',\n",
       "  'coordinate': {'latitude': 51.733321040674575,\n",
       "   'longitude': 9.02727484703064},\n",
       "  'status': 'locationPrivate',\n",
       "  'id': 1130395265446969345,\n",
       "  'id_str': '1130395265446969345',\n",
       "  'institutionID': 'ElsaWorkflow: destinationOne'},\n",
       " {'typeDiscriminator': 'physicalEventLocation',\n",
       "  'houseName': 'Bushaltestelle Parkplatz Aqua Magica',\n",
       "  'street': 'Bültestraße',\n",
       "  'houseNumber': '32',\n",
       "  'postalCode': '32545',\n",
       "  'city': 'Bad Oeynhausen',\n",
       "  'coordinate': {'latitude': 52.195165686587764,\n",
       "   'longitude': 8.783612251281738},\n",
       "  'status': 'locationPrivate',\n",
       "  'id': 1130395397806620673,\n",
       "  'id_str': '1130395397806620673',\n",
       "  'institutionID': 'ElsaWorkflow: destinationOne'},\n",
       " {'typeDiscriminator': 'physicalEventLocation',\n",
       "  'houseName': 'Bushaltestelle Parkplatz Aqua Magica',\n",
       "  'street': 'Bültestraße',\n",
       "  'houseNumber': '32',\n",
       "  'postalCode': '32545',\n",
       "  'city': 'Bad Oeynhausen',\n",
       "  'coordinate': {'latitude': 52.195165686587764,\n",
       "   'longitude': 8.783612251281738},\n",
       "  'status': 'locationPrivate',\n",
       "  'id': 1130395398523846657,\n",
       "  'id_str': '1130395398523846657',\n",
       "  'institutionID': 'ElsaWorkflow: destinationOne'},\n",
       " {'typeDiscriminator': 'physicalEventLocation',\n",
       "  'houseName': 'Corvey',\n",
       "  'street': 'Corvey',\n",
       "  'houseNumber': '1',\n",
       "  'postalCode': '37671',\n",
       "  'city': 'Höxter',\n",
       "  'coordinate': {'latitude': 51.77840878750391,\n",
       "   'longitude': 9.408073425292969},\n",
       "  'status': 'locationPrivate',\n",
       "  'id': 1130399948404162561,\n",
       "  'id_str': '1130399948404162561',\n",
       "  'institutionID': 'ElsaWorkflow: destinationOne'},\n",
       " {'typeDiscriminator': 'physicalEventLocation',\n",
       "  'houseName': 'Tourist-Information im Haus des Gastes',\n",
       "  'street': 'Im Kurpark',\n",
       "  'postalCode': '32545',\n",
       "  'city': 'Bad Oeynhausen',\n",
       "  'coordinate': {'latitude': 52.202064, 'longitude': 8.79491},\n",
       "  'status': 'locationPrivate',\n",
       "  'id': 1130399858365038593,\n",
       "  'id_str': '1130399858365038593',\n",
       "  'institutionID': 'ElsaWorkflow: destinationOne'},\n",
       " {'typeDiscriminator': 'physicalEventLocation',\n",
       "  'houseName': 'Kurpark, Bad Oeynhausen',\n",
       "  'street': 'Im Kurpark',\n",
       "  'postalCode': '32545',\n",
       "  'city': 'Bad Oeynhausen',\n",
       "  'coordinate': {'latitude': 52.200888, 'longitude': 8.794936},\n",
       "  'status': 'locationPrivate',\n",
       "  'id': 1130395654175064065,\n",
       "  'id_str': '1130395654175064065',\n",
       "  'institutionID': 'ElsaWorkflow: destinationOne'},\n",
       " {'typeDiscriminator': 'physicalEventLocation',\n",
       "  'houseName': 'Tourist-Information im Haus des Gastes',\n",
       "  'street': 'Im Kurpark',\n",
       "  'postalCode': '32545',\n",
       "  'city': 'Bad Oeynhausen',\n",
       "  'coordinate': {'latitude': 52.202064, 'longitude': 8.79491},\n",
       "  'status': 'locationPrivate',\n",
       "  'id': 1130395084945096704,\n",
       "  'id_str': '1130395084945096704',\n",
       "  'institutionID': 'ElsaWorkflow: destinationOne'},\n",
       " {'typeDiscriminator': 'physicalEventLocation',\n",
       "  'houseName': 'Sommerfelder Platz',\n",
       "  'street': 'Lange Straße',\n",
       "  'houseNumber': '78',\n",
       "  'postalCode': '32602',\n",
       "  'city': 'Vlotho',\n",
       "  'coordinate': {'latitude': 52.16868083344121,\n",
       "   'longitude': 8.862447738647461},\n",
       "  'status': 'locationPrivate',\n",
       "  'id': 1130395398888751104,\n",
       "  'id_str': '1130395398888751104',\n",
       "  'institutionID': 'ElsaWorkflow: destinationOne'},\n",
       " {'typeDiscriminator': 'physicalEventLocation',\n",
       "  'houseName': 'Bad Oeynhausen',\n",
       "  'street': 'Im Kurpark',\n",
       "  'postalCode': '32545',\n",
       "  'city': 'Bad Oeynhausen',\n",
       "  'coordinate': {'latitude': 52.200137238427324,\n",
       "   'longitude': 8.795714378356932},\n",
       "  'status': 'locationPrivate',\n",
       "  'id': 1130400211877756929,\n",
       "  'id_str': '1130400211877756929',\n",
       "  'institutionID': 'ElsaWorkflow: destinationOne'},\n",
       " {'typeDiscriminator': 'physicalEventLocation',\n",
       "  'houseName': 'Laurentiuskirche',\n",
       "  'street': 'Kirchstr.',\n",
       "  'houseNumber': '17',\n",
       "  'postalCode': '32547',\n",
       "  'city': 'Bad Oeynhausen',\n",
       "  'coordinate': {'latitude': 52.2145923, 'longitude': 8.8274982},\n",
       "  'status': 'locationPrivate',\n",
       "  'id': 1130395085632962560,\n",
       "  'id_str': '1130395085632962560',\n",
       "  'institutionID': 'ElsaWorkflow: destinationOne'},\n",
       " {'typeDiscriminator': 'physicalEventLocation',\n",
       "  'houseName': 'Marktplatz Brakel',\n",
       "  'street': 'Am Markt',\n",
       "  'houseNumber': '12',\n",
       "  'postalCode': '33034',\n",
       "  'city': 'Brakel',\n",
       "  'coordinate': {'latitude': 51.71716075, 'longitude': 9.183554550405711},\n",
       "  'status': 'locationPrivate',\n",
       "  'id': 1130399676437102592,\n",
       "  'id_str': '1130399676437102592',\n",
       "  'institutionID': 'ElsaWorkflow: destinationOne'}]"
      ]
     },
     "execution_count": 16,
     "metadata": {},
     "output_type": "execute_result"
    }
   ],
   "source": [
    "events['physicalLocation']"
   ]
  },
  {
   "cell_type": "code",
   "execution_count": 40,
   "metadata": {},
   "outputs": [
    {
     "data": {
      "text/plain": [
       "defaultdict(list,\n",
       "            {1041654542728429568: ['https://stowlplattform.blob.core.windows.net/eventmanagementdomaindevlocal/1041654529830944768.jpeg'],\n",
       "             1041653137288462336: ['https://stowlplattform.blob.core.windows.net/eventmanagementdomaindevlocal/1041653124495835136.jpeg'],\n",
       "             1041659036908388352: ['https://stowlplattform.blob.core.windows.net/eventmanagementdomaindevlocal/1041659021364297728.png'],\n",
       "             1041651056896901120: ['https://stowlplattform.blob.core.windows.net/eventmanagementdomaindevlocal/1041651042099396608.jpeg'],\n",
       "             1041668621702529024: ['https://stowlplattform.blob.core.windows.net/eventmanagementdomaindevlocal/1041668602979155968.jpeg'],\n",
       "             1041663113629270016: ['https://stowlplattform.blob.core.windows.net/eventmanagementdomaindevlocal/1041663100853420032.png'],\n",
       "             1041667121655840768: ['https://stowlplattform.blob.core.windows.net/eventmanagementdomaindevlocal/1041667106506014720.png'],\n",
       "             1041653653905080320: ['https://stowlplattform.blob.core.windows.net/eventmanagementdomaindevlocal/1041653638688145408.png'],\n",
       "             1041652082429394944: ['https://stowlplattform.blob.core.windows.net/eventmanagementdomaindevlocal/1041652067296346112.jpeg'],\n",
       "             1041659433307865088: ['https://stowlplattform.blob.core.windows.net/eventmanagementdomaindevlocal/1041659407424815104.jpeg'],\n",
       "             1041655694241038336: ['https://stowlplattform.blob.core.windows.net/eventmanagementdomaindevlocal/1041655681456799744.jpeg'],\n",
       "             1041667590709051392: ['https://stowlplattform.blob.core.windows.net/eventmanagementdomaindevlocal/1041667577899646976.jpeg']})"
      ]
     },
     "execution_count": 40,
     "metadata": {},
     "output_type": "execute_result"
    }
   ],
   "source": [
    "######\n",
    "### call OWL API and returns the images for a given list of events\n",
    "#######\n",
    "\n",
    "images = caller.get_images(event_ids = event_ids_list)\n",
    "images"
   ]
  },
  {
   "cell_type": "code",
   "execution_count": 3,
   "metadata": {},
   "outputs": [
    {
     "data": {
      "image/png": "[encoded data removed]",
      "text/plain": [
       "<PIL.Image.Image image mode=RGB size=200x200 at 0x1A4D8F39B50>"
      ]
     },
     "metadata": {},
     "output_type": "display_data"
    }
   ],
   "source": [
    "######\n",
    "### display image\n",
    "#######\n",
    "\n",
    "show_image(f\"{os.getcwd()}\\\\notebooks\\{images[0]}\")"
   ]
  },
  {
   "cell_type": "code",
   "execution_count": 44,
   "metadata": {},
   "outputs": [
    {
     "name": "stdout",
     "output_type": "stream",
     "text": [
      "In Total 0.60 % of Images downloaded and saved to D:\\Kulturdatenraum_Projekt\\Master_Thesis\\code_01\\prepare_datasets\\my_project\\OWLAPICaller\\OWLCaller/notebooks\n"
     ]
    }
   ],
   "source": [
    "######\n",
    "### saves the images for a given list of events to output_path\n",
    "#######\n",
    "\n",
    "caller.save_images(event_ids_list,  output_path = f\"{os.getcwd()}/notebooks\")"
   ]
  },
  {
   "cell_type": "code",
   "execution_count": 46,
   "metadata": {},
   "outputs": [
    {
     "name": "stdout",
     "output_type": "stream",
     "text": [
      "Dataframe with 20 events saved to D:\\Kulturdatenraum_Projekt\\Master_Thesis\\code_01\\prepare_datasets\\my_project\\OWLAPICaller\\OWLCaller/notebooks/owl_data_2023_07_21.csv\n"
     ]
    }
   ],
   "source": [
    "######\n",
    "### saves the events to output_path\n",
    "#######\n",
    "\n",
    "caller.save_events_dataframe(events, output_path = f\"{os.getcwd()}/notebooks\")"
   ]
  },
  {
   "cell_type": "code",
   "execution_count": null,
   "metadata": {},
   "outputs": [],
   "source": []
  }
 ],
 "metadata": {
  "kernelspec": {
   "display_name": "envTest",
   "language": "python",
   "name": "python3"
  },
  "language_info": {
   "codemirror_mode": {
    "name": "ipython",
    "version": 3
   },
   "file_extension": ".py",
   "mimetype": "text/x-python",
   "name": "python",
   "nbconvert_exporter": "python",
   "pygments_lexer": "ipython3",
   "version": "3.9.12"
  },
  "orig_nbformat": 4
 },
 "nbformat": 4,
 "nbformat_minor": 2
}

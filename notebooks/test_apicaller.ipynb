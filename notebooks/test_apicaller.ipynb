{
 "cells": [
  {
   "cell_type": "code",
   "execution_count": 1,
   "metadata": {},
   "outputs": [
    {
     "data": {
      "text/plain": [
       "'D:\\\\Kulturdatenraum_Projekt\\\\Master_Thesis\\\\code_01\\\\prepare_datasets\\\\my_project\\\\OWL_APICaller'"
      ]
     },
     "execution_count": 1,
     "metadata": {},
     "output_type": "execute_result"
    }
   ],
   "source": [
    "import os\n",
    "\n",
    "os.chdir(\"D:\\Kulturdatenraum_Projekt\\Master_Thesis\\code_01\\prepare_datasets\\my_project\\OWL_APICaller\")\n",
    "os.getcwd()"
   ]
  },
  {
   "cell_type": "code",
   "execution_count": 2,
   "metadata": {},
   "outputs": [
    {
     "name": "stdout",
     "output_type": "stream",
     "text": [
      "Today is 2023-06-06\n"
     ]
    }
   ],
   "source": [
    "import datetime\n",
    "\n",
    "from apicaller import *\n",
    "from apicaller.__apicaller_class import APICaller\n",
    "from functions import *\n",
    "\n",
    "print(f\"Today is {datetime.date.today()}\")\n"
   ]
  },
  {
   "cell_type": "code",
   "execution_count": 3,
   "metadata": {},
   "outputs": [
    {
     "name": "stderr",
     "output_type": "stream",
     "text": [
      "100%|██████████| 3/3 [00:03<00:00,  1.02s/it]"
     ]
    },
    {
     "name": "stdout",
     "output_type": "stream",
     "text": [
      "In Total Got 201 unique ids\n"
     ]
    },
    {
     "name": "stderr",
     "output_type": "stream",
     "text": [
      "\n"
     ]
    }
   ],
   "source": [
    "caller = APICaller()\n",
    "event_ids_list = caller.get_event_ids(201)\n",
    "#event_ids_list"
   ]
  },
  {
   "cell_type": "code",
   "execution_count": 4,
   "metadata": {},
   "outputs": [
    {
     "name": "stderr",
     "output_type": "stream",
     "text": [
      "100%|██████████| 1/1 [00:00<00:00,  5.45it/s]"
     ]
    },
    {
     "name": "stdout",
     "output_type": "stream",
     "text": [
      "In Total Got 20 unique ids\n"
     ]
    },
    {
     "name": "stderr",
     "output_type": "stream",
     "text": [
      "\n"
     ]
    },
    {
     "data": {
      "text/plain": [
       "[1041654542728429568,\n",
       " 1041653137288462336,\n",
       " 1041659036908388352,\n",
       " 1041651056896901120,\n",
       " 1041668621702529024,\n",
       " 1041661178629062656,\n",
       " 1041651794360401920,\n",
       " 1041663113629270016,\n",
       " 1041652916181532672,\n",
       " 1041662996213923840,\n",
       " 1041667121655840768,\n",
       " 1041653653905080320,\n",
       " 1041652082429394944,\n",
       " 1041659433307865088,\n",
       " 1041652372348076032,\n",
       " 1041660481367965696,\n",
       " 1041655694241038336,\n",
       " 1041668761116999680,\n",
       " 1041667590709051392,\n",
       " 1041666136560631808]"
      ]
     },
     "execution_count": 4,
     "metadata": {},
     "output_type": "execute_result"
    }
   ],
   "source": [
    "caller = APICaller()\n",
    "event_ids_list = caller.get_event_ids(20)\n",
    "event_ids_list\n"
   ]
  },
  {
   "cell_type": "code",
   "execution_count": 5,
   "metadata": {},
   "outputs": [
    {
     "name": "stdout",
     "output_type": "stream",
     "text": [
      "Dict with 20 event ids saved to D:\\Kulturdatenraum_Projekt\\Master_Thesis\\code_01\\prepare_datasets\\my_project\\OWL_APICaller/owl_ids_2023_06_06.json\n"
     ]
    }
   ],
   "source": [
    "caller.save_event_ids(event_ids_list, os.getcwd())"
   ]
  },
  {
   "cell_type": "code",
   "execution_count": 6,
   "metadata": {},
   "outputs": [
    {
     "name": "stderr",
     "output_type": "stream",
     "text": [
      "100%|██████████| 20/20 [00:02<00:00,  8.97it/s]\n"
     ]
    }
   ],
   "source": [
    "events = caller.get_events(event_ids_list)"
   ]
  },
  {
   "cell_type": "code",
   "execution_count": 7,
   "metadata": {},
   "outputs": [
    {
     "name": "stdout",
     "output_type": "stream",
     "text": [
      "20 \n",
      " dict_keys(['id', 'id_str', 'institutionID', 'name', 'description', 'website', 'primaryEventCategory', 'additionalEventCategories', 'startDate', 'endDate', 'physicalLocation', 'status', 'attendanceMode', 'mainImage'])\n"
     ]
    }
   ],
   "source": [
    "print(len(events['id']), '\\n', events.keys())"
   ]
  },
  {
   "cell_type": "code",
   "execution_count": 8,
   "metadata": {},
   "outputs": [
    {
     "data": {
      "text/plain": [
       "[{'typeDiscriminator': 'physicalEventLocation',\n",
       "  'houseName': 'Diözesanmuseum',\n",
       "  'street': 'Markt',\n",
       "  'houseNumber': '17',\n",
       "  'postalCode': '33098',\n",
       "  'city': 'Paderborn',\n",
       "  'country': 'Deutschland',\n",
       "  'coordinate': {'latitude': 51.71846455, 'longitude': 8.755226669786783},\n",
       "  'foreignKeys': [{'id': 0,\n",
       "    'physicalEventLocationId': 0,\n",
       "    'provider': 'https://paderborn.de/tourismus-kultur/veranstaltungen/veranstaltungskalender.php',\n",
       "    'key': 'https://www.paderborn.de/veranstaltungen/externe/Black-and-White.php?p=22791%2C3939%2C76868%2C%2Ftourismus-kultur%2Fveranstaltungen%2Fveranstaltungskalender.php%2C207816'}],\n",
       "  'status': 'locationHidden',\n",
       "  'id': 1041654529789001728,\n",
       "  'id_str': '1041654529789001728',\n",
       "  'institutionID': 'ElsaWorkflow: paderborn'},\n",
       " {'typeDiscriminator': 'physicalEventLocation',\n",
       "  'houseName': 'Kinder- und Computerbibliothek',\n",
       "  'street': 'Rosenstraße',\n",
       "  'houseNumber': '13-15',\n",
       "  'postalCode': '33098',\n",
       "  'city': 'Paderborn',\n",
       "  'country': 'Deutschland',\n",
       "  'coordinate': {'latitude': 51.7159983, 'longitude': 8.75253868695999},\n",
       "  'foreignKeys': [{'id': 0,\n",
       "    'physicalEventLocationId': 0,\n",
       "    'provider': 'https://paderborn.de/tourismus-kultur/veranstaltungen/veranstaltungskalender.php',\n",
       "    'key': 'https://www.paderborn.de/veranstaltungen/bibliothek/gamezone-eure-lieblingsspielehelden-aus-buegelperlen.php?p=22791%2C3939%2C76868%2C%2Ftourismus-kultur%2Fveranstaltungen%2Fveranstaltungskalender.php%2C207553'}],\n",
       "  'status': 'locationHidden',\n",
       "  'id': 1041653124453892096,\n",
       "  'id_str': '1041653124453892096',\n",
       "  'institutionID': 'ElsaWorkflow: paderborn'},\n",
       " {'typeDiscriminator': 'physicalEventLocation',\n",
       "  'houseName': 'Kinder- und Computerbibliothek',\n",
       "  'street': 'Rosenstraße',\n",
       "  'houseNumber': '13-15',\n",
       "  'postalCode': '33098',\n",
       "  'city': 'Paderborn',\n",
       "  'country': 'Deutschland',\n",
       "  'coordinate': {'latitude': 51.7159983, 'longitude': 8.75253868695999},\n",
       "  'foreignKeys': [{'id': 0,\n",
       "    'physicalEventLocationId': 0,\n",
       "    'provider': 'https://paderborn.de/tourismus-kultur/veranstaltungen/veranstaltungskalender.php',\n",
       "    'key': 'https://www.paderborn.de/veranstaltungen/bibliothek/slc-2022-2.php?p=22791%2C3939%2C76868%2C%2Ftourismus-kultur%2Fveranstaltungen%2Fveranstaltungskalender.php%2C208609'}],\n",
       "  'status': 'locationHidden',\n",
       "  'id': 1041659021292994560,\n",
       "  'id_str': '1041659021292994560',\n",
       "  'institutionID': 'ElsaWorkflow: paderborn'},\n",
       " {'typeDiscriminator': 'physicalEventLocation',\n",
       "  'houseName': 'Diözesanmuseum',\n",
       "  'street': 'Markt',\n",
       "  'houseNumber': '17',\n",
       "  'postalCode': '33098',\n",
       "  'city': 'Paderborn',\n",
       "  'country': 'Deutschland',\n",
       "  'coordinate': {'latitude': 51.71846455, 'longitude': 8.755226669786783},\n",
       "  'foreignKeys': [{'id': 0,\n",
       "    'physicalEventLocationId': 0,\n",
       "    'provider': 'https://paderborn.de/tourismus-kultur/veranstaltungen/veranstaltungskalender.php',\n",
       "    'key': 'https://www.paderborn.de/veranstaltungen/externe/Black-and-White.php?spfix%3AscheduleId=1&p=22791%2C3939%2C76868%2C%2Ftourismus-kultur%2Fveranstaltungen%2Fveranstaltungskalender.php%2C207816'}],\n",
       "  'status': 'locationHidden',\n",
       "  'id': 1041651042049064960,\n",
       "  'id_str': '1041651042049064960',\n",
       "  'institutionID': 'ElsaWorkflow: paderborn'},\n",
       " {'typeDiscriminator': 'physicalEventLocation',\n",
       "  'houseName': 'Universität Paderborn',\n",
       "  'street': 'Warburger Straße',\n",
       "  'houseNumber': '100',\n",
       "  'postalCode': '33098',\n",
       "  'city': 'Paderborn',\n",
       "  'country': 'Deutschland',\n",
       "  'coordinate': {'latitude': 51.70752095, 'longitude': 8.772403972858978},\n",
       "  'foreignKeys': [{'id': 0,\n",
       "    'physicalEventLocationId': 0,\n",
       "    'provider': 'https://paderborn.de/tourismus-kultur/veranstaltungen/veranstaltungskalender.php',\n",
       "    'key': 'https://www.paderborn.de/veranstaltungen/externe/wanderausstellung.php?spfix%3AscheduleId=29&p=22791%2C3939%2C76868%2C%2Ftourismus-kultur%2Fveranstaltungen%2Fveranstaltungskalender.php%2C208042'}],\n",
       "  'status': 'locationHidden',\n",
       "  'id': 1041668602941407232,\n",
       "  'id_str': '1041668602941407232',\n",
       "  'institutionID': 'ElsaWorkflow: paderborn'},\n",
       " {'typeDiscriminator': 'physicalEventLocation',\n",
       "  'houseName': 'Heinz Nixdorf MuseumsForum',\n",
       "  'street': 'Fürstenallee',\n",
       "  'houseNumber': '7',\n",
       "  'postalCode': '33102',\n",
       "  'city': 'Paderborn',\n",
       "  'country': 'Deutschland',\n",
       "  'coordinate': {'latitude': 51.7312687, 'longitude': 8.735631936276292},\n",
       "  'foreignKeys': [{'id': 0,\n",
       "    'physicalEventLocationId': 0,\n",
       "    'provider': 'https://paderborn.de/tourismus-kultur/veranstaltungen/veranstaltungskalender.php',\n",
       "    'key': 'https://www.paderborn.de/veranstaltungen/hnf/e-labor-f-impulstechnik.php?p=22791%2C3939%2C76868%2C%2Ftourismus-kultur%2Fveranstaltungen%2Fveranstaltungskalender.php%2C209668'}],\n",
       "  'status': 'locationHidden',\n",
       "  'id': 1041661174300540928,\n",
       "  'id_str': '1041661174300540928',\n",
       "  'institutionID': 'ElsaWorkflow: paderborn'},\n",
       " {'typeDiscriminator': 'physicalEventLocation',\n",
       "  'houseName': 'Heinz Nixdorf MuseumsForum',\n",
       "  'street': 'Fürstenallee',\n",
       "  'houseNumber': '7',\n",
       "  'postalCode': '33102',\n",
       "  'city': 'Paderborn',\n",
       "  'country': 'Deutschland',\n",
       "  'coordinate': {'latitude': 51.7312687, 'longitude': 8.735631936276292},\n",
       "  'foreignKeys': [{'id': 0,\n",
       "    'physicalEventLocationId': 0,\n",
       "    'provider': 'https://paderborn.de/tourismus-kultur/veranstaltungen/veranstaltungskalender.php',\n",
       "    'key': 'https://www.paderborn.de/veranstaltungen/hnf/e-labor-f-impulstechnik.php?spfix%3AscheduleId=1&p=22791%2C3939%2C76868%2C%2Ftourismus-kultur%2Fveranstaltungen%2Fveranstaltungskalender.php%2C209668'}],\n",
       "  'status': 'locationHidden',\n",
       "  'id': 1041651790036074496,\n",
       "  'id_str': '1041651790036074496',\n",
       "  'institutionID': 'ElsaWorkflow: paderborn'},\n",
       " {'typeDiscriminator': 'physicalEventLocation',\n",
       "  'houseName': 'Studiobühne (Öffnet in einem neuen Tab)',\n",
       "  'street': 'Warburger Straße',\n",
       "  'houseNumber': '100',\n",
       "  'postalCode': '33098',\n",
       "  'city': 'Paderborn',\n",
       "  'country': 'Deutschland',\n",
       "  'coordinate': {'latitude': 51.70752095, 'longitude': 8.772403972858978},\n",
       "  'foreignKeys': [{'id': 0,\n",
       "    'physicalEventLocationId': 0,\n",
       "    'provider': 'https://paderborn.de/tourismus-kultur/veranstaltungen/veranstaltungskalender.php',\n",
       "    'key': 'https://www.paderborn.de/veranstaltungen/externe/2022_04_09-PaderBORN-TO-BE-WILD_204439.php?spfix%3AscheduleId=8&p=22791%2C3939%2C76868%2C%2Ftourismus-kultur%2Fveranstaltungen%2Fveranstaltungskalender.php%2C204439'}],\n",
       "  'status': 'locationHidden',\n",
       "  'id': 1041663100807282688,\n",
       "  'id_str': '1041663100807282688',\n",
       "  'institutionID': 'ElsaWorkflow: paderborn'},\n",
       " {'typeDiscriminator': 'physicalEventLocation',\n",
       "  'houseName': 'Kreismuseum Wewelsburg',\n",
       "  'street': 'Burgwall',\n",
       "  'houseNumber': '19',\n",
       "  'postalCode': '33142',\n",
       "  'city': 'Büren',\n",
       "  'country': 'Deutschland',\n",
       "  'coordinate': {'latitude': 51.6066002, 'longitude': 8.65255023137135},\n",
       "  'foreignKeys': [{'id': 0,\n",
       "    'physicalEventLocationId': 0,\n",
       "    'provider': 'https://paderborn.de/tourismus-kultur/veranstaltungen/veranstaltungskalender.php',\n",
       "    'key': 'https://www.paderborn.de/veranstaltungen/kreismuseum-wewelsburg/oef-vom-steinzeitgrab-zum-dreiecksschloss-erwachsene-und-familien-5.php?p=22791%2C3939%2C76868%2C%2Ftourismus-kultur%2Fveranstaltungen%2Fveranstaltungskalender.php%2C208973'}],\n",
       "  'status': 'locationHidden',\n",
       "  'id': 1041652911878176768,\n",
       "  'id_str': '1041652911878176768',\n",
       "  'institutionID': 'ElsaWorkflow: paderborn'},\n",
       " {'typeDiscriminator': 'physicalEventLocation',\n",
       "  'houseName': 'Diözesanmuseum',\n",
       "  'street': 'Markt',\n",
       "  'houseNumber': '17',\n",
       "  'postalCode': '33098',\n",
       "  'city': 'Paderborn',\n",
       "  'country': 'Deutschland',\n",
       "  'coordinate': {'latitude': 51.71846455, 'longitude': 8.755226669786783},\n",
       "  'foreignKeys': [{'id': 0,\n",
       "    'physicalEventLocationId': 0,\n",
       "    'provider': 'https://paderborn.de/tourismus-kultur/veranstaltungen/veranstaltungskalender.php',\n",
       "    'key': 'https://www.paderborn.de/veranstaltungen/externe/Fotokunst-und-Pixelbilder.php?p=22791%2C3939%2C76868%2C%2Ftourismus-kultur%2Fveranstaltungen%2Fveranstaltungskalender.php%2C207822'}],\n",
       "  'status': 'locationHidden',\n",
       "  'id': 1041662991902179328,\n",
       "  'id_str': '1041662991902179328',\n",
       "  'institutionID': 'ElsaWorkflow: paderborn'},\n",
       " {'typeDiscriminator': 'physicalEventLocation',\n",
       "  'houseName': 'Kinder- und Computerbibliothek',\n",
       "  'street': 'Rosenstraße',\n",
       "  'houseNumber': '13-15',\n",
       "  'postalCode': '33098',\n",
       "  'city': 'Paderborn',\n",
       "  'country': 'Deutschland',\n",
       "  'coordinate': {'latitude': 51.7159983, 'longitude': 8.75253868695999},\n",
       "  'foreignKeys': [{'id': 0,\n",
       "    'physicalEventLocationId': 0,\n",
       "    'provider': 'https://paderborn.de/tourismus-kultur/veranstaltungen/veranstaltungskalender.php',\n",
       "    'key': 'https://www.paderborn.de/veranstaltungen/bibliothek/slc-2022-3.php?p=22791%2C3939%2C76868%2C%2Ftourismus-kultur%2Fveranstaltungen%2Fveranstaltungskalender.php%2C208614'}],\n",
       "  'status': 'locationHidden',\n",
       "  'id': 1041667106464071680,\n",
       "  'id_str': '1041667106464071680',\n",
       "  'institutionID': 'ElsaWorkflow: paderborn'},\n",
       " {'typeDiscriminator': 'physicalEventLocation',\n",
       "  'houseName': 'Stadtbibliothek',\n",
       "  'street': 'Am Rothoborn',\n",
       "  'houseNumber': '1',\n",
       "  'postalCode': '33098',\n",
       "  'city': 'Paderborn',\n",
       "  'country': 'Deutschland',\n",
       "  'coordinate': {'latitude': 51.7198035, 'longitude': 8.75494491932224},\n",
       "  'foreignKeys': [{'id': 0,\n",
       "    'physicalEventLocationId': 0,\n",
       "    'provider': 'https://paderborn.de/tourismus-kultur/veranstaltungen/veranstaltungskalender.php',\n",
       "    'key': 'https://www.paderborn.de/veranstaltungen/bibliothek/mario-kart-turnier-22-juli.php?p=22791%2C3939%2C76868%2C%2Ftourismus-kultur%2Fveranstaltungen%2Fveranstaltungskalender.php%2C208912'}],\n",
       "  'status': 'locationHidden',\n",
       "  'id': 1041653638604259328,\n",
       "  'id_str': '1041653638604259328',\n",
       "  'institutionID': 'ElsaWorkflow: paderborn'},\n",
       " {'typeDiscriminator': 'physicalEventLocation',\n",
       "  'houseName': 'Stadtbibliothek',\n",
       "  'street': 'Am Rothoborn',\n",
       "  'houseNumber': '1',\n",
       "  'postalCode': '33098',\n",
       "  'city': 'Paderborn',\n",
       "  'country': 'Deutschland',\n",
       "  'coordinate': {'latitude': 51.7198035, 'longitude': 8.75494491932224},\n",
       "  'foreignKeys': [{'id': 0,\n",
       "    'physicalEventLocationId': 0,\n",
       "    'provider': 'https://paderborn.de/tourismus-kultur/veranstaltungen/veranstaltungskalender.php',\n",
       "    'key': 'https://www.paderborn.de/veranstaltungen/bibliothek/fuehrung-zentralbibliothek.php?spfix%3AscheduleId=4&p=22791%2C3939%2C76868%2C%2Ftourismus-kultur%2Fveranstaltungen%2Fveranstaltungskalender.php%2C203617'}],\n",
       "  'status': 'locationHidden',\n",
       "  'id': 1041652067241820160,\n",
       "  'id_str': '1041652067241820160',\n",
       "  'institutionID': 'ElsaWorkflow: paderborn'},\n",
       " {'typeDiscriminator': 'physicalEventLocation',\n",
       "  'houseName': 'Kunstverein Paderborn',\n",
       "  'street': 'Kamp',\n",
       "  'houseNumber': '13',\n",
       "  'postalCode': '33098',\n",
       "  'city': 'Paderborn',\n",
       "  'country': 'Deutschland',\n",
       "  'coordinate': {'latitude': 51.7166741, 'longitude': 8.7549126},\n",
       "  'foreignKeys': [{'id': 0,\n",
       "    'physicalEventLocationId': 0,\n",
       "    'provider': 'https://paderborn.de/tourismus-kultur/veranstaltungen/veranstaltungskalender.php',\n",
       "    'key': 'https://www.paderborn.de/veranstaltungen/externe/Kunstgenuss-im-Juli.php?p=22791%2C3939%2C76868%2C%2Ftourismus-kultur%2Fveranstaltungen%2Fveranstaltungskalender.php%2C209263'}],\n",
       "  'status': 'locationHidden',\n",
       "  'id': 1041659407378677760,\n",
       "  'id_str': '1041659407378677760',\n",
       "  'institutionID': 'ElsaWorkflow: paderborn'},\n",
       " {'typeDiscriminator': 'physicalEventLocation',\n",
       "  'houseName': 'Diözesanmuseum',\n",
       "  'street': 'Markt',\n",
       "  'houseNumber': '17',\n",
       "  'postalCode': '33098',\n",
       "  'city': 'Paderborn',\n",
       "  'country': 'Deutschland',\n",
       "  'coordinate': {'latitude': 51.71846455, 'longitude': 8.755226669786783},\n",
       "  'foreignKeys': [{'id': 0,\n",
       "    'physicalEventLocationId': 0,\n",
       "    'provider': 'https://paderborn.de/tourismus-kultur/veranstaltungen/veranstaltungskalender.php',\n",
       "    'key': 'https://www.paderborn.de/veranstaltungen/externe/Fotokunst-und-Pixelbilder.php?spfix%3AscheduleId=3&p=22791%2C3939%2C76868%2C%2Ftourismus-kultur%2Fveranstaltungen%2Fveranstaltungskalender.php%2C207822'}],\n",
       "  'status': 'locationHidden',\n",
       "  'id': 1041652368032137216,\n",
       "  'id_str': '1041652368032137216',\n",
       "  'institutionID': 'ElsaWorkflow: paderborn'},\n",
       " {'typeDiscriminator': 'physicalEventLocation',\n",
       "  'houseName': 'Heinz Nixdorf MuseumsForum',\n",
       "  'street': 'Fürstenallee',\n",
       "  'houseNumber': '7',\n",
       "  'postalCode': '33102',\n",
       "  'city': 'Paderborn',\n",
       "  'country': 'Deutschland',\n",
       "  'coordinate': {'latitude': 51.7312687, 'longitude': 8.735631936276292},\n",
       "  'foreignKeys': [{'id': 0,\n",
       "    'physicalEventLocationId': 0,\n",
       "    'provider': 'https://paderborn.de/tourismus-kultur/veranstaltungen/veranstaltungskalender.php',\n",
       "    'key': 'https://www.paderborn.de/veranstaltungen/hnf/osterferienprogramm.php?spfix%3AscheduleId=3&p=22791%2C3939%2C76868%2C%2Ftourismus-kultur%2Fveranstaltungen%2Fveranstaltungskalender.php%2C205409'}],\n",
       "  'status': 'locationHidden',\n",
       "  'id': 1041660477056221184,\n",
       "  'id_str': '1041660477056221184',\n",
       "  'institutionID': 'ElsaWorkflow: paderborn'},\n",
       " {'typeDiscriminator': 'physicalEventLocation',\n",
       "  'houseName': 'Kunstmuseum im Marstall',\n",
       "  'street': 'Im Schlosspark',\n",
       "  'houseNumber': '9',\n",
       "  'postalCode': '33104',\n",
       "  'city': 'Paderborn',\n",
       "  'country': 'Deutschland',\n",
       "  'coordinate': {'latitude': 51.7452399, 'longitude': 8.7100348},\n",
       "  'foreignKeys': [{'id': 0,\n",
       "    'physicalEventLocationId': 0,\n",
       "    'provider': 'https://paderborn.de/tourismus-kultur/veranstaltungen/veranstaltungskalender.php',\n",
       "    'key': 'https://www.paderborn.de/veranstaltungen/kunstmuseum-im-marstall/offenes-atelier-der-sommerakademie.php?p=22791%2C3939%2C76868%2C%2Ftourismus-kultur%2Fveranstaltungen%2Fveranstaltungskalender.php%2C203399'}],\n",
       "  'status': 'locationHidden',\n",
       "  'id': 1041655681414856704,\n",
       "  'id_str': '1041655681414856704',\n",
       "  'institutionID': 'ElsaWorkflow: paderborn'},\n",
       " {'typeDiscriminator': 'physicalEventLocation',\n",
       "  'houseName': 'Kreismuseum Wewelsburg',\n",
       "  'street': 'Burgwall',\n",
       "  'houseNumber': '19',\n",
       "  'postalCode': '33142',\n",
       "  'city': 'Büren',\n",
       "  'country': 'Deutschland',\n",
       "  'coordinate': {'latitude': 51.6066002, 'longitude': 8.65255023137135},\n",
       "  'foreignKeys': [{'id': 0,\n",
       "    'physicalEventLocationId': 0,\n",
       "    'provider': 'https://paderborn.de/tourismus-kultur/veranstaltungen/veranstaltungskalender.php',\n",
       "    'key': 'https://www.paderborn.de/veranstaltungen/kreismuseum-wewelsburg/monumenta-on-tour-fuehrung-durch-stiftskirche-und-widukind-museum-in-enger.php?p=22791%2C3939%2C76868%2C%2Ftourismus-kultur%2Fveranstaltungen%2Fveranstaltungskalender.php%2C208976'}],\n",
       "  'status': 'locationHidden',\n",
       "  'id': 1041668756809449472,\n",
       "  'id_str': '1041668756809449472',\n",
       "  'institutionID': 'ElsaWorkflow: paderborn'},\n",
       " {'typeDiscriminator': 'physicalEventLocation',\n",
       "  'houseName': 'Diözesanmuseum',\n",
       "  'street': 'Markt',\n",
       "  'houseNumber': '17',\n",
       "  'postalCode': '33098',\n",
       "  'city': 'Paderborn',\n",
       "  'country': 'Deutschland',\n",
       "  'coordinate': {'latitude': 51.71846455, 'longitude': 8.755226669786783},\n",
       "  'foreignKeys': [{'id': 0,\n",
       "    'physicalEventLocationId': 0,\n",
       "    'provider': 'https://paderborn.de/tourismus-kultur/veranstaltungen/veranstaltungskalender.php',\n",
       "    'key': 'https://www.paderborn.de/veranstaltungen/externe/2022_07_09-Die-Museums-Spuernasen.php?p=22791%2C3939%2C76868%2C%2Ftourismus-kultur%2Fveranstaltungen%2Fveranstaltungskalender.php%2C207825'}],\n",
       "  'status': 'locationHidden',\n",
       "  'id': 1041667577870286848,\n",
       "  'id_str': '1041667577870286848',\n",
       "  'institutionID': 'ElsaWorkflow: paderborn'},\n",
       " {'typeDiscriminator': 'physicalEventLocation',\n",
       "  'houseName': 'Kreismuseum Wewelsburg',\n",
       "  'street': 'Burgwall',\n",
       "  'houseNumber': '19',\n",
       "  'postalCode': '33142',\n",
       "  'city': 'Büren',\n",
       "  'country': 'Deutschland',\n",
       "  'coordinate': {'latitude': 51.6066002, 'longitude': 8.65255023137135},\n",
       "  'foreignKeys': [{'id': 0,\n",
       "    'physicalEventLocationId': 0,\n",
       "    'provider': 'https://paderborn.de/tourismus-kultur/veranstaltungen/veranstaltungskalender.php',\n",
       "    'key': 'https://www.paderborn.de/veranstaltungen/kreismuseum-wewelsburg/fuehrung-durch-die-dauerausstellung-ideologie-und-terror-der-ss-21.php?p=22791%2C3939%2C76868%2C%2Ftourismus-kultur%2Fveranstaltungen%2Fveranstaltungskalender.php%2C208978'}],\n",
       "  'status': 'locationHidden',\n",
       "  'id': 1041666132240498688,\n",
       "  'id_str': '1041666132240498688',\n",
       "  'institutionID': 'ElsaWorkflow: paderborn'}]"
      ]
     },
     "execution_count": 8,
     "metadata": {},
     "output_type": "execute_result"
    }
   ],
   "source": [
    "events['physicalLocation']"
   ]
  },
  {
   "cell_type": "code",
   "execution_count": 9,
   "metadata": {},
   "outputs": [
    {
     "name": "stdout",
     "output_type": "stream",
     "text": [
      "Dict with 20 events saved to D:\\Kulturdatenraum_Projekt\\Master_Thesis\\code_01\\prepare_datasets\\my_project\\OWL_APICaller/owl_data_2023_06_06.json\n"
     ]
    }
   ],
   "source": [
    "caller.save_events(event_ids_list, os.getcwd())"
   ]
  },
  {
   "cell_type": "code",
   "execution_count": 10,
   "metadata": {},
   "outputs": [],
   "source": [
    "images = caller.get_images(event_ids_list)\n"
   ]
  },
  {
   "cell_type": "code",
   "execution_count": 11,
   "metadata": {},
   "outputs": [
    {
     "data": {
      "text/plain": [
       "defaultdict(list,\n",
       "            {1041654542728429568: ['https://stowlplattform.blob.core.windows.net/eventmanagementdomaindevlocal/1041654529830944768.jpeg'],\n",
       "             1041653137288462336: ['https://stowlplattform.blob.core.windows.net/eventmanagementdomaindevlocal/1041653124495835136.jpeg'],\n",
       "             1041659036908388352: ['https://stowlplattform.blob.core.windows.net/eventmanagementdomaindevlocal/1041659021364297728.png'],\n",
       "             1041651056896901120: ['https://stowlplattform.blob.core.windows.net/eventmanagementdomaindevlocal/1041651042099396608.jpeg'],\n",
       "             1041668621702529024: ['https://stowlplattform.blob.core.windows.net/eventmanagementdomaindevlocal/1041668602979155968.jpeg'],\n",
       "             1041663113629270016: ['https://stowlplattform.blob.core.windows.net/eventmanagementdomaindevlocal/1041663100853420032.png'],\n",
       "             1041667121655840768: ['https://stowlplattform.blob.core.windows.net/eventmanagementdomaindevlocal/1041667106506014720.png'],\n",
       "             1041653653905080320: ['https://stowlplattform.blob.core.windows.net/eventmanagementdomaindevlocal/1041653638688145408.png'],\n",
       "             1041652082429394944: ['https://stowlplattform.blob.core.windows.net/eventmanagementdomaindevlocal/1041652067296346112.jpeg'],\n",
       "             1041659433307865088: ['https://stowlplattform.blob.core.windows.net/eventmanagementdomaindevlocal/1041659407424815104.jpeg'],\n",
       "             1041655694241038336: ['https://stowlplattform.blob.core.windows.net/eventmanagementdomaindevlocal/1041655681456799744.jpeg'],\n",
       "             1041667590709051392: ['https://stowlplattform.blob.core.windows.net/eventmanagementdomaindevlocal/1041667577899646976.jpeg']})"
      ]
     },
     "execution_count": 11,
     "metadata": {},
     "output_type": "execute_result"
    }
   ],
   "source": [
    "images"
   ]
  },
  {
   "cell_type": "code",
   "execution_count": 12,
   "metadata": {},
   "outputs": [
    {
     "name": "stdout",
     "output_type": "stream",
     "text": [
      "In Total 0.60 % of Images downloaded and saved to D:\\Kulturdatenraum_Projekt\\Master_Thesis\\code_01\\prepare_datasets\\my_project\\OWL_APICaller\n"
     ]
    }
   ],
   "source": [
    "caller.save_images(event_ids_list,  os.getcwd() )"
   ]
  },
  {
   "cell_type": "code",
   "execution_count": 13,
   "metadata": {},
   "outputs": [
    {
     "name": "stdout",
     "output_type": "stream",
     "text": [
      "Dataframe with 20 events saved to D:\\Kulturdatenraum_Projekt\\Master_Thesis\\code_01\\prepare_datasets\\my_project\\OWL_APICaller/owl_data_2023_06_06.csv\n"
     ]
    }
   ],
   "source": [
    "caller.save_events_dataframe(events, os.getcwd())"
   ]
  },
  {
   "cell_type": "code",
   "execution_count": null,
   "metadata": {},
   "outputs": [],
   "source": []
  }
 ],
 "metadata": {
  "kernelspec": {
   "display_name": "envTest",
   "language": "python",
   "name": "python3"
  },
  "language_info": {
   "codemirror_mode": {
    "name": "ipython",
    "version": 3
   },
   "file_extension": ".py",
   "mimetype": "text/x-python",
   "name": "python",
   "nbconvert_exporter": "python",
   "pygments_lexer": "ipython3",
   "version": "3.10.6"
  },
  "orig_nbformat": 4
 },
 "nbformat": 4,
 "nbformat_minor": 2
}
